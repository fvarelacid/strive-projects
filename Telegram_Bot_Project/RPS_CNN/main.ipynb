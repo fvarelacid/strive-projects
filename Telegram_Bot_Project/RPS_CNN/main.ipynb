{
 "cells": [
  {
   "cell_type": "code",
   "execution_count": 4,
   "source": [
    "import matplotlib.pyplot as plt\n",
    "from torchvision import datasets, transforms\n",
    "from torch.utils.data import DataLoader\n",
    "import torch.nn as nn\n",
    "import torch.nn.functional as F\n",
    "import torch.optim as optim\n",
    "import torch\n",
    "\n",
    "import mediapipe as mp"
   ],
   "outputs": [],
   "metadata": {}
  },
  {
   "cell_type": "code",
   "execution_count": 5,
   "source": [
    "def get_data():\n",
    "    data_dir = '/Users/franciscovarelacid/Desktop/Strive/images/'\n",
    "    \n",
    "    train_set = datasets.ImageFolder(data_dir + '/training_set')\n",
    "    test_set = datasets.ImageFolder(data_dir + '/test_set')\n",
    "\n",
    "    train = DataLoader(train_set, batch_size=32, shuffle=True)\n",
    "    test = DataLoader(test_set, batch_size=32, shuffle=True)\n",
    "\n",
    "    return train, test\n",
    "\n",
    "def train_imshow():\n",
    "    classes = ('rock', 'paper', 'scissors') # Defining the classes we have\n",
    "    dataiter = iter(train)\n",
    "    images, labels = dataiter.next()\n",
    "    fig, axes = plt.subplots(figsize=(10, 4), ncols=5)\n",
    "    for i in range(5):\n",
    "        ax = axes[i]\n",
    "        ax.imshow(images[i].permute(1, 2, 0)) \n",
    "        ax.title.set_text(' '.join('%5s' % classes[labels[i]]))\n",
    "    plt.show()"
   ],
   "outputs": [],
   "metadata": {}
  },
  {
   "cell_type": "code",
   "execution_count": 25,
   "source": [
    "data_dir = '/Users/franciscovarelacid/Desktop/Strive/images_ml/'\n",
    "\n",
    "transform = transforms.Compose([\n",
    "    #transforms.RandomRotation(20),\n",
    "    transforms.Resize(128),\n",
    "    #transforms.RandomHorizontalFlip(),\n",
    "    transforms.ToTensor()])\n",
    "\n",
    "\n",
    "train_set = datasets.ImageFolder(data_dir + '/training_set', transform=transform)\n",
    "test_set = datasets.ImageFolder(data_dir + '/test_set', transform=transform)\n",
    "\n",
    "train = DataLoader(train_set, batch_size=32, shuffle=True)\n",
    "test = DataLoader(test_set, batch_size=32, shuffle=True)\n",
    "\n",
    "classes = ('paper', 'rock', 'scissors') # Defining the classes we have\n",
    "dataiter = iter(train)\n",
    "images, labels = dataiter.next()\n",
    "images[0].shape\n",
    "# fig, axes = plt.subplots(figsize=(10, 4), ncols=5)\n",
    "# for i in range(5):\n",
    "#     ax = axes[i]\n",
    "#     ax.imshow(images[i].permute(1, 2, 0)) \n",
    "#     ax.title.set_text(' '.join('%5s' % classes[labels[i]]))\n",
    "# plt.show()\n"
   ],
   "outputs": [
    {
     "output_type": "execute_result",
     "data": {
      "text/plain": [
       "torch.Size([3, 128, 128])"
      ]
     },
     "metadata": {},
     "execution_count": 25
    }
   ],
   "metadata": {}
  },
  {
   "cell_type": "code",
   "execution_count": 6,
   "source": [
    "train_imshow"
   ],
   "outputs": [
    {
     "output_type": "execute_result",
     "data": {
      "text/plain": [
       "<function __main__.train_imshow()>"
      ]
     },
     "metadata": {},
     "execution_count": 6
    }
   ],
   "metadata": {}
  },
  {
   "cell_type": "code",
   "execution_count": 18,
   "source": [
    "help(mp)"
   ],
   "outputs": [
    {
     "output_type": "stream",
     "name": "stdout",
     "text": [
      "Help on package mediapipe:\n",
      "\n",
      "NAME\n",
      "    mediapipe - Copyright 2019 - 2020 The MediaPipe Authors.\n",
      "\n",
      "DESCRIPTION\n",
      "    Licensed under the Apache License, Version 2.0 (the \"License\");\n",
      "    you may not use this file except in compliance with the License.\n",
      "    You may obtain a copy of the License at\n",
      "    \n",
      "         http://www.apache.org/licenses/LICENSE-2.0\n",
      "    \n",
      "    Unless required by applicable law or agreed to in writing, software\n",
      "    distributed under the License is distributed on an \"AS IS\" BASIS,\n",
      "    WITHOUT WARRANTIES OR CONDITIONS OF ANY KIND, either express or implied.\n",
      "    See the License for the specific language governing permissions and\n",
      "    limitations under the License.\n",
      "\n",
      "PACKAGE CONTENTS\n",
      "    calculators (package)\n",
      "    examples (package)\n",
      "    framework (package)\n",
      "    gpu (package)\n",
      "    modules (package)\n",
      "    python (package)\n",
      "    util (package)\n",
      "\n",
      "SUBMODULES\n",
      "    packet_creator\n",
      "    packet_getter\n",
      "    resource_util\n",
      "    solutions\n",
      "\n",
      "FILE\n",
      "    /Users/franciscovarelacid/opt/anaconda3/envs/dlmod/lib/python3.8/site-packages/mediapipe/__init__.py\n",
      "\n",
      "\n"
     ]
    }
   ],
   "metadata": {}
  },
  {
   "cell_type": "code",
   "execution_count": null,
   "source": [],
   "outputs": [],
   "metadata": {}
  }
 ],
 "metadata": {
  "orig_nbformat": 4,
  "language_info": {
   "name": "python",
   "version": "3.8.11",
   "mimetype": "text/x-python",
   "codemirror_mode": {
    "name": "ipython",
    "version": 3
   },
   "pygments_lexer": "ipython3",
   "nbconvert_exporter": "python",
   "file_extension": ".py"
  },
  "kernelspec": {
   "name": "python3",
   "display_name": "Python 3.8.11 64-bit ('dlmod': conda)"
  },
  "interpreter": {
   "hash": "b19428efcbb6d0ea2fddd18d395f035e0bd84b94ded35c7329f1f6d567caed94"
  }
 },
 "nbformat": 4,
 "nbformat_minor": 2
}