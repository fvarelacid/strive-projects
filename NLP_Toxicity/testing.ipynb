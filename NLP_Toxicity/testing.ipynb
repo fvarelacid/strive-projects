{
 "cells": [
  {
   "cell_type": "code",
   "execution_count": 1,
   "metadata": {},
   "outputs": [],
   "source": [
    "from sklearn.datasets import make_multilabel_classification\n",
    "from torch.utils.data import Dataset\n",
    "import torch"
   ]
  },
  {
   "cell_type": "code",
   "execution_count": 2,
   "metadata": {},
   "outputs": [],
   "source": [
    "def make_dataset():\n",
    "    x, y = make_multilabel_classification(\n",
    "        n_samples=10000, n_features=150, n_classes=6, n_labels=2, random_state=1\n",
    "    )\n",
    "    # use 9900 samples for training\n",
    "    x_train = x[:9900]\n",
    "    y_train = y[:9900]\n",
    "    # use 100 samples for testing\n",
    "    x_test = x[-100:]\n",
    "    y_test = y[-100:]\n",
    "    return x_train, y_train, x_test, y_test"
   ]
  },
  {
   "cell_type": "code",
   "execution_count": 3,
   "metadata": {},
   "outputs": [],
   "source": [
    "dataset = make_dataset()"
   ]
  },
  {
   "cell_type": "code",
   "execution_count": 4,
   "metadata": {},
   "outputs": [
    {
     "data": {
      "text/plain": [
       "numpy.int64"
      ]
     },
     "execution_count": 4,
     "metadata": {},
     "output_type": "execute_result"
    }
   ],
   "source": [
    "type(dataset[1][1][0])"
   ]
  },
  {
   "cell_type": "code",
   "execution_count": 5,
   "metadata": {},
   "outputs": [
    {
     "data": {
      "text/plain": [
       "(array([[0., 0., 2., ..., 1., 0., 0.],\n",
       "        [0., 0., 0., ..., 0., 0., 0.],\n",
       "        [0., 0., 0., ..., 0., 0., 0.],\n",
       "        ...,\n",
       "        [0., 0., 1., ..., 0., 0., 3.],\n",
       "        [0., 0., 0., ..., 1., 1., 0.],\n",
       "        [1., 0., 1., ..., 1., 0., 0.]]),\n",
       " array([[0, 1, 0, 0, 0, 0],\n",
       "        [0, 0, 0, 0, 0, 0],\n",
       "        [1, 1, 0, 1, 1, 0],\n",
       "        ...,\n",
       "        [0, 0, 0, 0, 0, 0],\n",
       "        [1, 1, 0, 0, 1, 1],\n",
       "        [0, 1, 0, 0, 0, 0]]),\n",
       " array([[2., 0., 1., ..., 1., 0., 2.],\n",
       "        [0., 0., 1., ..., 0., 1., 1.],\n",
       "        [0., 0., 0., ..., 0., 0., 0.],\n",
       "        ...,\n",
       "        [1., 0., 0., ..., 0., 0., 0.],\n",
       "        [1., 0., 0., ..., 0., 0., 1.],\n",
       "        [0., 1., 0., ..., 0., 1., 0.]]),\n",
       " array([[0, 0, 0, 0, 0, 0],\n",
       "        [1, 1, 0, 0, 0, 0],\n",
       "        [0, 1, 0, 0, 0, 0],\n",
       "        [0, 1, 0, 1, 1, 0],\n",
       "        [1, 0, 0, 1, 0, 1],\n",
       "        [1, 1, 0, 1, 0, 0],\n",
       "        [0, 0, 0, 0, 0, 0],\n",
       "        [1, 0, 0, 0, 0, 0],\n",
       "        [1, 0, 0, 0, 0, 0],\n",
       "        [0, 1, 0, 1, 0, 0],\n",
       "        [1, 1, 0, 1, 1, 0],\n",
       "        [0, 0, 0, 0, 0, 0],\n",
       "        [1, 1, 1, 1, 1, 1],\n",
       "        [0, 0, 0, 1, 0, 1],\n",
       "        [1, 1, 0, 1, 0, 0],\n",
       "        [1, 1, 0, 1, 0, 1],\n",
       "        [1, 0, 0, 0, 0, 0],\n",
       "        [1, 1, 0, 1, 0, 0],\n",
       "        [1, 1, 0, 0, 0, 0],\n",
       "        [0, 1, 0, 1, 1, 0],\n",
       "        [0, 1, 0, 1, 0, 0],\n",
       "        [0, 0, 0, 0, 0, 0],\n",
       "        [1, 0, 0, 1, 0, 0],\n",
       "        [1, 1, 0, 1, 1, 0],\n",
       "        [1, 1, 0, 0, 0, 0],\n",
       "        [1, 0, 0, 1, 0, 0],\n",
       "        [1, 1, 0, 0, 0, 0],\n",
       "        [0, 1, 0, 0, 0, 0],\n",
       "        [0, 1, 0, 0, 0, 0],\n",
       "        [0, 1, 0, 1, 0, 1],\n",
       "        [1, 1, 0, 0, 0, 0],\n",
       "        [1, 1, 0, 1, 1, 0],\n",
       "        [1, 0, 0, 0, 0, 1],\n",
       "        [1, 1, 0, 1, 1, 0],\n",
       "        [0, 0, 0, 0, 0, 0],\n",
       "        [0, 0, 0, 1, 0, 1],\n",
       "        [1, 1, 0, 0, 0, 0],\n",
       "        [0, 1, 0, 0, 0, 0],\n",
       "        [0, 1, 0, 1, 0, 0],\n",
       "        [1, 0, 0, 0, 1, 0],\n",
       "        [1, 1, 0, 1, 0, 1],\n",
       "        [0, 1, 0, 0, 0, 0],\n",
       "        [1, 0, 0, 1, 0, 0],\n",
       "        [0, 1, 0, 0, 0, 0],\n",
       "        [1, 1, 0, 1, 0, 1],\n",
       "        [1, 1, 0, 0, 0, 0],\n",
       "        [0, 1, 0, 0, 0, 0],\n",
       "        [0, 0, 0, 0, 1, 1],\n",
       "        [0, 1, 0, 1, 0, 1],\n",
       "        [1, 1, 0, 1, 0, 0],\n",
       "        [0, 0, 0, 0, 0, 0],\n",
       "        [0, 1, 0, 1, 0, 0],\n",
       "        [1, 1, 0, 0, 0, 0],\n",
       "        [1, 0, 0, 0, 0, 0],\n",
       "        [1, 0, 0, 0, 0, 0],\n",
       "        [1, 1, 1, 1, 1, 1],\n",
       "        [0, 1, 0, 0, 0, 0],\n",
       "        [1, 1, 0, 0, 0, 0],\n",
       "        [0, 1, 0, 0, 0, 0],\n",
       "        [1, 1, 0, 1, 1, 0],\n",
       "        [0, 1, 0, 0, 0, 0],\n",
       "        [0, 1, 0, 0, 1, 0],\n",
       "        [0, 1, 0, 0, 0, 0],\n",
       "        [0, 1, 0, 0, 0, 0],\n",
       "        [1, 1, 0, 1, 0, 0],\n",
       "        [0, 1, 0, 0, 0, 0],\n",
       "        [1, 1, 0, 1, 0, 1],\n",
       "        [1, 1, 0, 1, 1, 0],\n",
       "        [1, 1, 0, 0, 1, 0],\n",
       "        [0, 0, 0, 0, 0, 0],\n",
       "        [1, 1, 0, 0, 0, 0],\n",
       "        [1, 1, 0, 0, 1, 0],\n",
       "        [1, 1, 0, 1, 1, 0],\n",
       "        [0, 1, 0, 1, 0, 0],\n",
       "        [1, 1, 0, 1, 0, 1],\n",
       "        [1, 0, 0, 1, 0, 0],\n",
       "        [1, 1, 0, 1, 1, 0],\n",
       "        [0, 1, 0, 0, 0, 0],\n",
       "        [0, 1, 0, 0, 1, 0],\n",
       "        [0, 0, 0, 0, 0, 0],\n",
       "        [0, 0, 0, 0, 0, 0],\n",
       "        [0, 0, 0, 1, 1, 0],\n",
       "        [1, 1, 0, 0, 0, 0],\n",
       "        [1, 1, 0, 0, 0, 0],\n",
       "        [0, 0, 0, 1, 0, 0],\n",
       "        [1, 1, 0, 0, 0, 1],\n",
       "        [0, 1, 0, 0, 1, 0],\n",
       "        [1, 0, 0, 0, 0, 0],\n",
       "        [1, 1, 0, 1, 1, 1],\n",
       "        [0, 0, 0, 0, 0, 0],\n",
       "        [0, 0, 0, 0, 0, 0],\n",
       "        [0, 1, 0, 1, 1, 0],\n",
       "        [0, 1, 0, 1, 0, 0],\n",
       "        [0, 0, 0, 0, 0, 1],\n",
       "        [0, 0, 0, 0, 0, 0],\n",
       "        [0, 1, 0, 0, 0, 0],\n",
       "        [1, 1, 0, 1, 1, 0],\n",
       "        [0, 1, 0, 0, 0, 0],\n",
       "        [0, 1, 0, 1, 0, 0],\n",
       "        [1, 0, 0, 0, 0, 0]]))"
      ]
     },
     "execution_count": 5,
     "metadata": {},
     "output_type": "execute_result"
    }
   ],
   "source": [
    "dataset"
   ]
  },
  {
   "cell_type": "code",
   "execution_count": 6,
   "metadata": {},
   "outputs": [],
   "source": [
    "class BinaryDataset(Dataset):\n",
    "    def __init__(self, x, y):\n",
    "        self.x = x\n",
    "        self.y = y\n",
    "        \n",
    "    def __len__(self):\n",
    "        return len(self.x)\n",
    "    \n",
    "    def __getitem__(self, index):\n",
    "        features = self.x[index, :]\n",
    "        labels = self.y[index, :]\n",
    "        \n",
    "        # we have 12 feature columns \n",
    "        features = torch.tensor(features, dtype=torch.float32)\n",
    "        # there are 5 classes and each class can have a binary value ...\n",
    "        # ... either 0 or 1\n",
    "        label1 = torch.tensor(labels[0], dtype=torch.float32)\n",
    "        label2 = torch.tensor(labels[1], dtype=torch.float32)\n",
    "        label3 = torch.tensor(labels[2], dtype=torch.float32)\n",
    "        label4 = torch.tensor(labels[3], dtype=torch.float32)\n",
    "        label5 = torch.tensor(labels[4], dtype=torch.float32)\n",
    "        label6 = torch.tensor(labels[4], dtype=torch.float32)\n",
    "\n",
    "        return {\n",
    "            'features': features,\n",
    "            'label1': label1,\n",
    "            'label2': label2,\n",
    "            'label3': label3,\n",
    "            'label4': label4,\n",
    "            'label5': label5,\n",
    "            'label6': label6\n",
    "        }"
   ]
  },
  {
   "cell_type": "code",
   "execution_count": 7,
   "metadata": {},
   "outputs": [
    {
     "data": {
      "text/plain": [
       "<__main__.BinaryDataset at 0x7f879e393d90>"
      ]
     },
     "execution_count": 7,
     "metadata": {},
     "output_type": "execute_result"
    }
   ],
   "source": [
    "BinaryDataset(dataset[0], dataset[1])"
   ]
  },
  {
   "cell_type": "code",
   "execution_count": 8,
   "metadata": {},
   "outputs": [],
   "source": [
    "bin_dataset = BinaryDataset(dataset[0], dataset[1])"
   ]
  },
  {
   "cell_type": "code",
   "execution_count": 9,
   "metadata": {},
   "outputs": [
    {
     "data": {
      "text/plain": [
       "tensor([0., 0., 2., 1., 0., 0., 0., 0., 0., 0., 0., 2., 1., 0., 1., 0., 0., 0.,\n",
       "        2., 0., 2., 0., 0., 0., 0., 0., 1., 0., 1., 0., 0., 0., 0., 0., 1., 0.,\n",
       "        2., 0., 0., 0., 0., 0., 0., 0., 0., 0., 0., 1., 0., 1., 0., 0., 2., 0.,\n",
       "        2., 0., 0., 0., 0., 0., 2., 0., 0., 0., 1., 0., 1., 2., 0., 0., 0., 0.,\n",
       "        0., 2., 0., 0., 0., 0., 0., 0., 0., 0., 0., 0., 0., 0., 0., 0., 0., 0.,\n",
       "        0., 0., 0., 0., 0., 1., 0., 1., 0., 0., 0., 0., 0., 1., 0., 0., 1., 0.,\n",
       "        0., 0., 0., 0., 0., 1., 2., 1., 0., 0., 0., 0., 0., 0., 0., 0., 0., 0.,\n",
       "        0., 0., 0., 1., 0., 1., 0., 0., 0., 0., 0., 0., 0., 0., 0., 0., 0., 1.,\n",
       "        0., 0., 0., 1., 0., 0.])"
      ]
     },
     "execution_count": 9,
     "metadata": {},
     "output_type": "execute_result"
    }
   ],
   "source": [
    "bin_dataset[0]['features']"
   ]
  },
  {
   "cell_type": "code",
   "execution_count": 10,
   "metadata": {},
   "outputs": [],
   "source": [
    "import torch.nn as nn\n",
    "import torch.nn.functional as F"
   ]
  },
  {
   "cell_type": "code",
   "execution_count": 11,
   "metadata": {},
   "outputs": [],
   "source": [
    "class MultiHeadBinaryModel(nn.Module):\n",
    "    def __init__(self):\n",
    "        super(MultiHeadBinaryModel, self).__init__()\n",
    "        self.fc1 = nn.Linear(150, 32) # 150 is the number of features\n",
    "        self.fc2 = nn.Linear(32, 64)\n",
    "        self.fc3 = nn.Linear(64, 128)\n",
    "        self.fc4 = nn.Linear(128, 256)\n",
    "        \n",
    "        # we will treat each head as a binary classifier ...\n",
    "        # ... so the output features will be 1\n",
    "        self.out1 = nn.Linear(256, 1)\n",
    "        self.out2 = nn.Linear(256, 1)\n",
    "        self.out3 = nn.Linear(256, 1)\n",
    "        self.out4 = nn.Linear(256, 1)\n",
    "        self.out5 = nn.Linear(256, 1)\n",
    "        self.out6 = nn.Linear(256, 1)\n",
    "    \n",
    "    def forward(self, x):\n",
    "        x = F.relu(self.fc1(x))\n",
    "        x = F.relu(self.fc2(x))\n",
    "        x = F.relu(self.fc3(x))\n",
    "        x = F.relu(self.fc4(x))\n",
    "        \n",
    "        # each binary classifier head will have its own output\n",
    "        out1 = F.sigmoid(self.out1(x))\n",
    "        out2 = F.sigmoid(self.out2(x))\n",
    "        out3 = F.sigmoid(self.out3(x))\n",
    "        out4 = F.sigmoid(self.out4(x))\n",
    "        out5 = F.sigmoid(self.out5(x))\n",
    "        out6 = F.sigmoid(self.out6(x))\n",
    "        \n",
    "        return out1, out2, out3, out4, out5, out6"
   ]
  },
  {
   "cell_type": "code",
   "execution_count": 12,
   "metadata": {},
   "outputs": [],
   "source": [
    "import torch.nn as nn\n",
    "# custom loss function for multi-head binary classification\n",
    "def binary_loss_fn(outputs, targets):\n",
    "    o1, o2, o3, o4, o5, o6 = outputs\n",
    "    t1, t2, t3, t4, t5, t6 = targets\n",
    "    l1 = nn.BCELoss()(o1, t1)\n",
    "    l2 = nn.BCELoss()(o2, t2)\n",
    "    l3 = nn.BCELoss()(o3, t3)\n",
    "    l4 = nn.BCELoss()(o4, t4)\n",
    "    l5 = nn.BCELoss()(o5, t5)\n",
    "    l6 = nn.BCELoss()(o6, t6)\n",
    "    return (l1 + l2 + l3 + l4 + l5 + l6) / 5"
   ]
  },
  {
   "cell_type": "code",
   "execution_count": 13,
   "metadata": {},
   "outputs": [],
   "source": [
    "from torch.utils.data import DataLoader\n",
    "from tqdm import tqdm\n",
    "import torch.optim as optim\n",
    "import torch.nn as nn\n",
    "import torch\n",
    "import matplotlib.pyplot as plt\n",
    "import matplotlib\n",
    "matplotlib.style.use('ggplot')"
   ]
  },
  {
   "cell_type": "code",
   "execution_count": 31,
   "metadata": {},
   "outputs": [
    {
     "name": "stdout",
     "output_type": "stream",
     "text": [
      "[INFO]: Number of training samples: 9900\n",
      "[INFO]: Number of training features: 150\n"
     ]
    }
   ],
   "source": [
    "# prepare the dataset\n",
    "x_train, y_train, _, _ = make_dataset()\n",
    "# print some info\n",
    "print(f\"[INFO]: Number of training samples: {x_train.shape[0]}\")\n",
    "print(f\"[INFO]: Number of training features: {x_train.shape[1]}\")\n",
    "# train dataset\n",
    "train_dataset = BinaryDataset(x_train, y_train)\n",
    "# train data loader\n",
    "train_dataloader = DataLoader(train_dataset, shuffle=True, batch_size=16)\n",
    "# initialize the model\n",
    "model = MultiHeadBinaryModel()"
   ]
  },
  {
   "cell_type": "code",
   "execution_count": 33,
   "metadata": {},
   "outputs": [
    {
     "data": {
      "text/plain": [
       "torch.Size([16, 150])"
      ]
     },
     "execution_count": 33,
     "metadata": {},
     "output_type": "execute_result"
    }
   ],
   "source": [
    "next(iter(train_dataloader))['features'].shape"
   ]
  },
  {
   "cell_type": "code",
   "execution_count": 20,
   "metadata": {},
   "outputs": [
    {
     "data": {
      "text/plain": [
       "MultiHeadBinaryModel(\n",
       "  (fc1): Linear(in_features=150, out_features=32, bias=True)\n",
       "  (fc2): Linear(in_features=32, out_features=64, bias=True)\n",
       "  (fc3): Linear(in_features=64, out_features=128, bias=True)\n",
       "  (fc4): Linear(in_features=128, out_features=256, bias=True)\n",
       "  (out1): Linear(in_features=256, out_features=1, bias=True)\n",
       "  (out2): Linear(in_features=256, out_features=1, bias=True)\n",
       "  (out3): Linear(in_features=256, out_features=1, bias=True)\n",
       "  (out4): Linear(in_features=256, out_features=1, bias=True)\n",
       "  (out5): Linear(in_features=256, out_features=1, bias=True)\n",
       "  (out6): Linear(in_features=256, out_features=1, bias=True)\n",
       ")"
      ]
     },
     "execution_count": 20,
     "metadata": {},
     "output_type": "execute_result"
    }
   ],
   "source": [
    "device = torch.device('cuda' if torch.cuda.is_available() else 'cpu')\n",
    "epochs = 100\n",
    "# load the model on to the computation device\n",
    "model.to(device)"
   ]
  },
  {
   "cell_type": "code",
   "execution_count": 37,
   "metadata": {},
   "outputs": [
    {
     "name": "stdout",
     "output_type": "stream",
     "text": [
      "(tensor([[0.4883],\n",
      "        [0.4909],\n",
      "        [0.4907],\n",
      "        [0.4919],\n",
      "        [0.4928],\n",
      "        [0.4922],\n",
      "        [0.4899],\n",
      "        [0.4916],\n",
      "        [0.4904],\n",
      "        [0.4909],\n",
      "        [0.4899],\n",
      "        [0.4910],\n",
      "        [0.4933],\n",
      "        [0.4915],\n",
      "        [0.4924],\n",
      "        [0.4930]], grad_fn=<SigmoidBackward>), tensor([[0.4881],\n",
      "        [0.4873],\n",
      "        [0.4863],\n",
      "        [0.4869],\n",
      "        [0.4863],\n",
      "        [0.4868],\n",
      "        [0.4860],\n",
      "        [0.4871],\n",
      "        [0.4865],\n",
      "        [0.4885],\n",
      "        [0.4870],\n",
      "        [0.4873],\n",
      "        [0.4888],\n",
      "        [0.4889],\n",
      "        [0.4874],\n",
      "        [0.4858]], grad_fn=<SigmoidBackward>), tensor([[0.4993],\n",
      "        [0.4987],\n",
      "        [0.4992],\n",
      "        [0.5000],\n",
      "        [0.4969],\n",
      "        [0.4973],\n",
      "        [0.4965],\n",
      "        [0.4992],\n",
      "        [0.4980],\n",
      "        [0.4986],\n",
      "        [0.4988],\n",
      "        [0.4953],\n",
      "        [0.4989],\n",
      "        [0.4981],\n",
      "        [0.4975],\n",
      "        [0.4999]], grad_fn=<SigmoidBackward>), tensor([[0.4803],\n",
      "        [0.4797],\n",
      "        [0.4802],\n",
      "        [0.4815],\n",
      "        [0.4819],\n",
      "        [0.4812],\n",
      "        [0.4809],\n",
      "        [0.4825],\n",
      "        [0.4826],\n",
      "        [0.4806],\n",
      "        [0.4818],\n",
      "        [0.4831],\n",
      "        [0.4797],\n",
      "        [0.4798],\n",
      "        [0.4803],\n",
      "        [0.4790]], grad_fn=<SigmoidBackward>), tensor([[0.4817],\n",
      "        [0.4798],\n",
      "        [0.4820],\n",
      "        [0.4816],\n",
      "        [0.4803],\n",
      "        [0.4814],\n",
      "        [0.4792],\n",
      "        [0.4843],\n",
      "        [0.4819],\n",
      "        [0.4796],\n",
      "        [0.4829],\n",
      "        [0.4793],\n",
      "        [0.4814],\n",
      "        [0.4827],\n",
      "        [0.4813],\n",
      "        [0.4778]], grad_fn=<SigmoidBackward>), tensor([[0.4809],\n",
      "        [0.4800],\n",
      "        [0.4800],\n",
      "        [0.4819],\n",
      "        [0.4805],\n",
      "        [0.4818],\n",
      "        [0.4797],\n",
      "        [0.4814],\n",
      "        [0.4799],\n",
      "        [0.4796],\n",
      "        [0.4800],\n",
      "        [0.4801],\n",
      "        [0.4803],\n",
      "        [0.4790],\n",
      "        [0.4801],\n",
      "        [0.4820]], grad_fn=<SigmoidBackward>))\n",
      "(tensor([0., 0., 0., 0., 1., 1., 1., 0., 1., 1., 1., 0., 0., 0., 1., 0.]), tensor([1., 1., 0., 0., 0., 1., 1., 1., 1., 1., 1., 0., 0., 1., 1., 1.]), tensor([0., 0., 0., 0., 0., 0., 0., 0., 0., 0., 0., 0., 0., 0., 0., 0.]), tensor([1., 1., 0., 1., 1., 1., 1., 0., 0., 0., 1., 1., 0., 0., 1., 0.]), tensor([0., 0., 0., 0., 0., 1., 1., 0., 0., 0., 0., 0., 0., 0., 0., 0.]), tensor([0., 0., 0., 0., 0., 1., 1., 0., 0., 0., 0., 0., 0., 0., 0., 0.]))\n"
     ]
    }
   ],
   "source": [
    "model.train()\n",
    "for data in train_dataloader:\n",
    "\n",
    "    # extract the features and labels\n",
    "    features = data['features'].to(device)\n",
    "    target1 = data['label1'].to(device)\n",
    "    target2 = data['label2'].to(device)\n",
    "    target3 = data['label3'].to(device)\n",
    "    target4 = data['label4'].to(device)\n",
    "    target5 = data['label5'].to(device)\n",
    "    target6 = data['label6'].to(device)\n",
    "    \n",
    "    \n",
    "    outputs = model(features)\n",
    "    targets = (target1, target2, target3, target4, target5, target6)\n",
    "\n",
    "    print(outputs)\n",
    "    print(targets)\n",
    "\n",
    "    break"
   ]
  },
  {
   "cell_type": "code",
   "execution_count": 16,
   "metadata": {},
   "outputs": [],
   "source": [
    "# training function\n",
    "def train(model, dataloader, optimizer, loss_fn, train_dataset, device):\n",
    "    model.train()\n",
    "    counter = 0\n",
    "    train_running_loss = 0.0\n",
    "    for i, data in tqdm(enumerate(dataloader), total=int(len(train_dataset)/dataloader.batch_size)):\n",
    "        counter += 1\n",
    "        \n",
    "        # extract the features and labels\n",
    "        features = data['features'].to(device)\n",
    "        target1 = data['label1'].to(device)\n",
    "        target2 = data['label2'].to(device)\n",
    "        target3 = data['label3'].to(device)\n",
    "        target4 = data['label4'].to(device)\n",
    "        target5 = data['label5'].to(device)\n",
    "        target6 = data['label6'].to(device)\n",
    "        \n",
    "        # zero-out the optimizer gradients\n",
    "        optimizer.zero_grad()\n",
    "        \n",
    "        outputs = model(features)\n",
    "        targets = (target1, target2, target3, target4, target5, target6)\n",
    "        loss = loss_fn(outputs, targets)\n",
    "        train_running_loss += loss.item()\n",
    "        \n",
    "        # backpropagation\n",
    "        loss.backward()\n",
    "        # update optimizer parameters\n",
    "        optimizer.step()\n",
    "        \n",
    "    train_loss = train_running_loss / counter\n",
    "    return train_loss"
   ]
  },
  {
   "cell_type": "code",
   "execution_count": 17,
   "metadata": {},
   "outputs": [
    {
     "data": {
      "text/plain": [
       "MultiHeadBinaryModel(\n",
       "  (fc1): Linear(in_features=150, out_features=32, bias=True)\n",
       "  (fc2): Linear(in_features=32, out_features=64, bias=True)\n",
       "  (fc3): Linear(in_features=64, out_features=128, bias=True)\n",
       "  (fc4): Linear(in_features=128, out_features=256, bias=True)\n",
       "  (out1): Linear(in_features=256, out_features=1, bias=True)\n",
       "  (out2): Linear(in_features=256, out_features=1, bias=True)\n",
       "  (out3): Linear(in_features=256, out_features=1, bias=True)\n",
       "  (out4): Linear(in_features=256, out_features=1, bias=True)\n",
       "  (out5): Linear(in_features=256, out_features=1, bias=True)\n",
       "  (out6): Linear(in_features=256, out_features=1, bias=True)\n",
       ")"
      ]
     },
     "execution_count": 17,
     "metadata": {},
     "output_type": "execute_result"
    }
   ],
   "source": [
    "# learning parameters\n",
    "optimizer = optim.Adam(params=model.parameters(), lr=0.001)\n",
    "device = torch.device('cuda' if torch.cuda.is_available() else 'cpu')\n",
    "epochs = 100\n",
    "# load the model on to the computation device\n",
    "model.to(device)"
   ]
  },
  {
   "cell_type": "code",
   "execution_count": 18,
   "metadata": {},
   "outputs": [
    {
     "name": "stdout",
     "output_type": "stream",
     "text": [
      "Epoch 1 of 100\n"
     ]
    },
    {
     "name": "stderr",
     "output_type": "stream",
     "text": [
      "  0%|          | 0/9 [00:00<?, ?it/s]/Users/franciscovarelacid/opt/anaconda3/envs/nlpmod/lib/python3.8/site-packages/torch/nn/functional.py:1351: UserWarning: nn.functional.sigmoid is deprecated. Use torch.sigmoid instead.\n",
      "  warnings.warn(\"nn.functional.sigmoid is deprecated. Use torch.sigmoid instead.\")\n",
      "/Users/franciscovarelacid/opt/anaconda3/envs/nlpmod/lib/python3.8/site-packages/torch/nn/modules/loss.py:498: UserWarning: Using a target size (torch.Size([1024])) that is different to the input size (torch.Size([1024, 1])) is deprecated. Please ensure they have the same size.\n",
      "  return F.binary_cross_entropy(input, target, weight=self.weight, reduction=self.reduction)\n",
      "100%|██████████| 9/9 [00:03<00:00,  4.41it/s]/Users/franciscovarelacid/opt/anaconda3/envs/nlpmod/lib/python3.8/site-packages/torch/nn/modules/loss.py:498: UserWarning: Using a target size (torch.Size([684])) that is different to the input size (torch.Size([684, 1])) is deprecated. Please ensure they have the same size.\n",
      "  return F.binary_cross_entropy(input, target, weight=self.weight, reduction=self.reduction)\n",
      "10it [00:03,  3.06it/s]                      \n"
     ]
    },
    {
     "name": "stdout",
     "output_type": "stream",
     "text": [
      "Train Loss: 0.8026\n",
      "Epoch 2 of 100\n"
     ]
    },
    {
     "name": "stderr",
     "output_type": "stream",
     "text": [
      "10it [00:02,  4.07it/s]\n"
     ]
    },
    {
     "name": "stdout",
     "output_type": "stream",
     "text": [
      "Train Loss: 0.6905\n",
      "Epoch 3 of 100\n"
     ]
    },
    {
     "name": "stderr",
     "output_type": "stream",
     "text": [
      "10it [00:02,  4.76it/s]                      \n"
     ]
    },
    {
     "name": "stdout",
     "output_type": "stream",
     "text": [
      "Train Loss: 0.6513\n",
      "Epoch 4 of 100\n"
     ]
    },
    {
     "name": "stderr",
     "output_type": "stream",
     "text": [
      "10it [00:01,  6.15it/s]                      \n"
     ]
    },
    {
     "name": "stdout",
     "output_type": "stream",
     "text": [
      "Train Loss: 0.6379\n",
      "Epoch 5 of 100\n"
     ]
    },
    {
     "name": "stderr",
     "output_type": "stream",
     "text": [
      "10it [00:01,  6.66it/s]                      \n"
     ]
    },
    {
     "name": "stdout",
     "output_type": "stream",
     "text": [
      "Train Loss: 0.6153\n",
      "Epoch 6 of 100\n"
     ]
    },
    {
     "name": "stderr",
     "output_type": "stream",
     "text": [
      "10it [00:01,  9.09it/s]                      \n"
     ]
    },
    {
     "name": "stdout",
     "output_type": "stream",
     "text": [
      "Train Loss: 0.5797\n",
      "Epoch 7 of 100\n"
     ]
    },
    {
     "name": "stderr",
     "output_type": "stream",
     "text": [
      "10it [00:01,  8.40it/s]                      \n"
     ]
    },
    {
     "name": "stdout",
     "output_type": "stream",
     "text": [
      "Train Loss: 0.5463\n",
      "Epoch 8 of 100\n"
     ]
    },
    {
     "name": "stderr",
     "output_type": "stream",
     "text": [
      "10it [00:01,  8.68it/s]                      \n"
     ]
    },
    {
     "name": "stdout",
     "output_type": "stream",
     "text": [
      "Train Loss: 0.5234\n",
      "Epoch 9 of 100\n"
     ]
    },
    {
     "name": "stderr",
     "output_type": "stream",
     "text": [
      "10it [00:01,  7.44it/s]\n"
     ]
    },
    {
     "name": "stdout",
     "output_type": "stream",
     "text": [
      "Train Loss: 0.5095\n",
      "Epoch 10 of 100\n"
     ]
    },
    {
     "name": "stderr",
     "output_type": "stream",
     "text": [
      "10it [00:01,  5.74it/s]                      \n"
     ]
    },
    {
     "name": "stdout",
     "output_type": "stream",
     "text": [
      "Train Loss: 0.4939\n",
      "Epoch 11 of 100\n"
     ]
    },
    {
     "name": "stderr",
     "output_type": "stream",
     "text": [
      "10it [00:01,  6.22it/s]\n"
     ]
    },
    {
     "name": "stdout",
     "output_type": "stream",
     "text": [
      "Train Loss: 0.4723"
     ]
    },
    {
     "ename": "KeyboardInterrupt",
     "evalue": "",
     "output_type": "error",
     "traceback": [
      "\u001b[0;31m---------------------------------------------------------------------------\u001b[0m",
      "\u001b[0;31mKeyboardInterrupt\u001b[0m                         Traceback (most recent call last)",
      "\u001b[0;32m/var/folders/jt/gtp4f1sn19g4t4r5r42dd34m0000gn/T/ipykernel_20961/2613440748.py\u001b[0m in \u001b[0;36m<module>\u001b[0;34m\u001b[0m\n\u001b[1;32m      7\u001b[0m     )\n\u001b[1;32m      8\u001b[0m     \u001b[0mtrain_loss\u001b[0m\u001b[0;34m.\u001b[0m\u001b[0mappend\u001b[0m\u001b[0;34m(\u001b[0m\u001b[0mtrain_epoch_loss\u001b[0m\u001b[0;34m)\u001b[0m\u001b[0;34m\u001b[0m\u001b[0;34m\u001b[0m\u001b[0m\n\u001b[0;32m----> 9\u001b[0;31m     \u001b[0mprint\u001b[0m\u001b[0;34m(\u001b[0m\u001b[0;34mf\"Train Loss: {train_epoch_loss:.4f}\"\u001b[0m\u001b[0;34m)\u001b[0m\u001b[0;34m\u001b[0m\u001b[0;34m\u001b[0m\u001b[0m\n\u001b[0m\u001b[1;32m     10\u001b[0m \u001b[0mtorch\u001b[0m\u001b[0;34m.\u001b[0m\u001b[0msave\u001b[0m\u001b[0;34m(\u001b[0m\u001b[0mmodel\u001b[0m\u001b[0;34m.\u001b[0m\u001b[0mstate_dict\u001b[0m\u001b[0;34m(\u001b[0m\u001b[0;34m)\u001b[0m\u001b[0;34m,\u001b[0m \u001b[0;34m'outputs/multi_head_binary.pth'\u001b[0m\u001b[0;34m)\u001b[0m\u001b[0;34m\u001b[0m\u001b[0;34m\u001b[0m\u001b[0m\n",
      "\u001b[0;32m~/opt/anaconda3/envs/nlpmod/lib/python3.8/site-packages/ipykernel/iostream.py\u001b[0m in \u001b[0;36mwrite\u001b[0;34m(self, string)\u001b[0m\n\u001b[1;32m    517\u001b[0m             \u001b[0mis_child\u001b[0m \u001b[0;34m=\u001b[0m \u001b[0;34m(\u001b[0m\u001b[0;32mnot\u001b[0m \u001b[0mself\u001b[0m\u001b[0;34m.\u001b[0m\u001b[0m_is_master_process\u001b[0m\u001b[0;34m(\u001b[0m\u001b[0;34m)\u001b[0m\u001b[0;34m)\u001b[0m\u001b[0;34m\u001b[0m\u001b[0;34m\u001b[0m\u001b[0m\n\u001b[1;32m    518\u001b[0m             \u001b[0;31m# only touch the buffer in the IO thread to avoid races\u001b[0m\u001b[0;34m\u001b[0m\u001b[0;34m\u001b[0m\u001b[0;34m\u001b[0m\u001b[0m\n\u001b[0;32m--> 519\u001b[0;31m             \u001b[0mself\u001b[0m\u001b[0;34m.\u001b[0m\u001b[0mpub_thread\u001b[0m\u001b[0;34m.\u001b[0m\u001b[0mschedule\u001b[0m\u001b[0;34m(\u001b[0m\u001b[0;32mlambda\u001b[0m\u001b[0;34m:\u001b[0m \u001b[0mself\u001b[0m\u001b[0;34m.\u001b[0m\u001b[0m_buffer\u001b[0m\u001b[0;34m.\u001b[0m\u001b[0mwrite\u001b[0m\u001b[0;34m(\u001b[0m\u001b[0mstring\u001b[0m\u001b[0;34m)\u001b[0m\u001b[0;34m)\u001b[0m\u001b[0;34m\u001b[0m\u001b[0;34m\u001b[0m\u001b[0m\n\u001b[0m\u001b[1;32m    520\u001b[0m             \u001b[0;32mif\u001b[0m \u001b[0mis_child\u001b[0m\u001b[0;34m:\u001b[0m\u001b[0;34m\u001b[0m\u001b[0;34m\u001b[0m\u001b[0m\n\u001b[1;32m    521\u001b[0m                 \u001b[0;31m# mp.Pool cannot be trusted to flush promptly (or ever),\u001b[0m\u001b[0;34m\u001b[0m\u001b[0;34m\u001b[0m\u001b[0;34m\u001b[0m\u001b[0m\n",
      "\u001b[0;32m~/opt/anaconda3/envs/nlpmod/lib/python3.8/site-packages/ipykernel/iostream.py\u001b[0m in \u001b[0;36mschedule\u001b[0;34m(self, f)\u001b[0m\n\u001b[1;32m    212\u001b[0m             \u001b[0mself\u001b[0m\u001b[0;34m.\u001b[0m\u001b[0m_events\u001b[0m\u001b[0;34m.\u001b[0m\u001b[0mappend\u001b[0m\u001b[0;34m(\u001b[0m\u001b[0mf\u001b[0m\u001b[0;34m)\u001b[0m\u001b[0;34m\u001b[0m\u001b[0;34m\u001b[0m\u001b[0m\n\u001b[1;32m    213\u001b[0m             \u001b[0;31m# wake event thread (message content is ignored)\u001b[0m\u001b[0;34m\u001b[0m\u001b[0;34m\u001b[0m\u001b[0;34m\u001b[0m\u001b[0m\n\u001b[0;32m--> 214\u001b[0;31m             \u001b[0mself\u001b[0m\u001b[0;34m.\u001b[0m\u001b[0m_event_pipe\u001b[0m\u001b[0;34m.\u001b[0m\u001b[0msend\u001b[0m\u001b[0;34m(\u001b[0m\u001b[0;34mb''\u001b[0m\u001b[0;34m)\u001b[0m\u001b[0;34m\u001b[0m\u001b[0;34m\u001b[0m\u001b[0m\n\u001b[0m\u001b[1;32m    215\u001b[0m         \u001b[0;32melse\u001b[0m\u001b[0;34m:\u001b[0m\u001b[0;34m\u001b[0m\u001b[0;34m\u001b[0m\u001b[0m\n\u001b[1;32m    216\u001b[0m             \u001b[0mf\u001b[0m\u001b[0;34m(\u001b[0m\u001b[0;34m)\u001b[0m\u001b[0;34m\u001b[0m\u001b[0;34m\u001b[0m\u001b[0m\n",
      "\u001b[0;32m~/opt/anaconda3/envs/nlpmod/lib/python3.8/site-packages/zmq/sugar/socket.py\u001b[0m in \u001b[0;36msend\u001b[0;34m(self, data, flags, copy, track, routing_id, group)\u001b[0m\n\u001b[1;32m    539\u001b[0m                 )\n\u001b[1;32m    540\u001b[0m             \u001b[0mdata\u001b[0m\u001b[0;34m.\u001b[0m\u001b[0mgroup\u001b[0m \u001b[0;34m=\u001b[0m \u001b[0mgroup\u001b[0m\u001b[0;34m\u001b[0m\u001b[0;34m\u001b[0m\u001b[0m\n\u001b[0;32m--> 541\u001b[0;31m         \u001b[0;32mreturn\u001b[0m \u001b[0msuper\u001b[0m\u001b[0;34m(\u001b[0m\u001b[0mSocket\u001b[0m\u001b[0;34m,\u001b[0m \u001b[0mself\u001b[0m\u001b[0;34m)\u001b[0m\u001b[0;34m.\u001b[0m\u001b[0msend\u001b[0m\u001b[0;34m(\u001b[0m\u001b[0mdata\u001b[0m\u001b[0;34m,\u001b[0m \u001b[0mflags\u001b[0m\u001b[0;34m=\u001b[0m\u001b[0mflags\u001b[0m\u001b[0;34m,\u001b[0m \u001b[0mcopy\u001b[0m\u001b[0;34m=\u001b[0m\u001b[0mcopy\u001b[0m\u001b[0;34m,\u001b[0m \u001b[0mtrack\u001b[0m\u001b[0;34m=\u001b[0m\u001b[0mtrack\u001b[0m\u001b[0;34m)\u001b[0m\u001b[0;34m\u001b[0m\u001b[0;34m\u001b[0m\u001b[0m\n\u001b[0m\u001b[1;32m    542\u001b[0m \u001b[0;34m\u001b[0m\u001b[0m\n\u001b[1;32m    543\u001b[0m     \u001b[0;32mdef\u001b[0m \u001b[0msend_multipart\u001b[0m\u001b[0;34m(\u001b[0m\u001b[0mself\u001b[0m\u001b[0;34m,\u001b[0m \u001b[0mmsg_parts\u001b[0m\u001b[0;34m,\u001b[0m \u001b[0mflags\u001b[0m\u001b[0;34m=\u001b[0m\u001b[0;36m0\u001b[0m\u001b[0;34m,\u001b[0m \u001b[0mcopy\u001b[0m\u001b[0;34m=\u001b[0m\u001b[0;32mTrue\u001b[0m\u001b[0;34m,\u001b[0m \u001b[0mtrack\u001b[0m\u001b[0;34m=\u001b[0m\u001b[0;32mFalse\u001b[0m\u001b[0;34m,\u001b[0m \u001b[0;34m**\u001b[0m\u001b[0mkwargs\u001b[0m\u001b[0;34m)\u001b[0m\u001b[0;34m:\u001b[0m\u001b[0;34m\u001b[0m\u001b[0;34m\u001b[0m\u001b[0m\n",
      "\u001b[0;32mzmq/backend/cython/socket.pyx\u001b[0m in \u001b[0;36mzmq.backend.cython.socket.Socket.send\u001b[0;34m()\u001b[0m\n",
      "\u001b[0;32mzmq/backend/cython/socket.pyx\u001b[0m in \u001b[0;36mzmq.backend.cython.socket.Socket.send\u001b[0;34m()\u001b[0m\n",
      "\u001b[0;32mzmq/backend/cython/socket.pyx\u001b[0m in \u001b[0;36mzmq.backend.cython.socket._send_copy\u001b[0;34m()\u001b[0m\n",
      "\u001b[0;32m~/opt/anaconda3/envs/nlpmod/lib/python3.8/site-packages/zmq/backend/cython/checkrc.pxd\u001b[0m in \u001b[0;36mzmq.backend.cython.checkrc._check_rc\u001b[0;34m()\u001b[0m\n",
      "\u001b[0;31mKeyboardInterrupt\u001b[0m: "
     ]
    }
   ],
   "source": [
    "# start the training\n",
    "train_loss = []\n",
    "for epoch in range(epochs):\n",
    "    print(f\"Epoch {epoch+1} of {epochs}\")\n",
    "    train_epoch_loss = train(\n",
    "        model, train_dataloader, optimizer, binary_loss_fn, train_dataset, device\n",
    "    )\n",
    "    train_loss.append(train_epoch_loss)\n",
    "    print(f\"Train Loss: {train_epoch_loss:.4f}\")\n",
    "torch.save(model.state_dict(), 'outputs/multi_head_binary.pth')"
   ]
  },
  {
   "cell_type": "code",
   "execution_count": null,
   "metadata": {},
   "outputs": [
    {
     "data": {
      "image/png": "[encoded data removed]",
      "text/plain": [
       "<Figure size 720x504 with 1 Axes>"
      ]
     },
     "metadata": {},
     "output_type": "display_data"
    }
   ],
   "source": [
    "# plot and save the train loss graph\n",
    "plt.figure(figsize=(10, 7))\n",
    "plt.plot(train_loss, color='orange', label='train loss')\n",
    "plt.xlabel('Epochs')\n",
    "plt.ylabel('Loss')\n",
    "plt.legend()\n",
    "plt.savefig('outputs/multi_head_binary_loss.png')\n",
    "plt.show()"
   ]
  },
  {
   "cell_type": "code",
   "execution_count": null,
   "metadata": {},
   "outputs": [],
   "source": [
    "from torch.utils.data import DataLoader\n",
    "import torch\n",
    "device = torch.device('cuda' if torch.cuda.is_available() else 'cpu')"
   ]
  },
  {
   "cell_type": "code",
   "execution_count": null,
   "metadata": {},
   "outputs": [
    {
     "name": "stdout",
     "output_type": "stream",
     "text": [
      "[INFO]: Number of test samples: 100\n",
      "[INFO]: Number of test features: 150\n"
     ]
    }
   ],
   "source": [
    "_, _, x_test, y_test = make_dataset()\n",
    "# print some info\n",
    "print(f\"[INFO]: Number of test samples: {x_test.shape[0]}\")\n",
    "print(f\"[INFO]: Number of test features: {x_test.shape[1]}\")\n",
    "test_dataset = BinaryDataset(x_test, y_test)\n",
    "test_dataloader = DataLoader(test_dataset, shuffle=False, batch_size=1)"
   ]
  },
  {
   "cell_type": "code",
   "execution_count": null,
   "metadata": {},
   "outputs": [],
   "source": [
    "next(iter(train_loader))[0].shape"
   ]
  },
  {
   "cell_type": "code",
   "execution_count": null,
   "metadata": {},
   "outputs": [
    {
     "data": {
      "text/plain": [
       "MultiHeadBinaryModel(\n",
       "  (fc1): Linear(in_features=150, out_features=32, bias=True)\n",
       "  (fc2): Linear(in_features=32, out_features=64, bias=True)\n",
       "  (fc3): Linear(in_features=64, out_features=128, bias=True)\n",
       "  (fc4): Linear(in_features=128, out_features=256, bias=True)\n",
       "  (out1): Linear(in_features=256, out_features=1, bias=True)\n",
       "  (out2): Linear(in_features=256, out_features=1, bias=True)\n",
       "  (out3): Linear(in_features=256, out_features=1, bias=True)\n",
       "  (out4): Linear(in_features=256, out_features=1, bias=True)\n",
       "  (out5): Linear(in_features=256, out_features=1, bias=True)\n",
       "  (out6): Linear(in_features=256, out_features=1, bias=True)\n",
       ")"
      ]
     },
     "execution_count": 58,
     "metadata": {},
     "output_type": "execute_result"
    }
   ],
   "source": [
    "# prepare the trained model\n",
    "model = MultiHeadBinaryModel()\n",
    "model.load_state_dict(torch.load('outputs/multi_head_binary.pth'))\n",
    "model.to(device)\n",
    "model.eval()"
   ]
  },
  {
   "cell_type": "code",
   "execution_count": null,
   "metadata": {},
   "outputs": [
    {
     "name": "stdout",
     "output_type": "stream",
     "text": [
      "SAMPLE 0\n",
      "ALL PREDICTIONS: [0, 0, 0, 0, 0, 0]\n",
      "GROUND TRUTHS: [0, 0, 0, 0, 0, 0]\n",
      "SAMPLE 1\n",
      "ALL PREDICTIONS: [0, 1, 0, 0, 0, 0]\n",
      "GROUND TRUTHS: [1, 1, 0, 0, 0, 0]\n",
      "SAMPLE 2\n",
      "ALL PREDICTIONS: [0, 1, 0, 0, 0, 0]\n",
      "GROUND TRUTHS: [0, 1, 0, 0, 0, 0]\n",
      "SAMPLE 3\n",
      "ALL PREDICTIONS: [0, 1, 0, 1, 0, 0]\n",
      "GROUND TRUTHS: [0, 1, 0, 1, 1, 1]\n",
      "SAMPLE 4\n",
      "ALL PREDICTIONS: [1, 1, 0, 1, 1, 1]\n",
      "GROUND TRUTHS: [1, 0, 0, 1, 0, 0]\n",
      "SAMPLE 5\n",
      "ALL PREDICTIONS: [0, 1, 0, 1, 0, 0]\n",
      "GROUND TRUTHS: [1, 1, 0, 1, 0, 0]\n",
      "SAMPLE 6\n",
      "ALL PREDICTIONS: [1, 0, 0, 0, 0, 0]\n",
      "GROUND TRUTHS: [0, 0, 0, 0, 0, 0]\n",
      "SAMPLE 7\n",
      "ALL PREDICTIONS: [1, 0, 0, 0, 0, 0]\n",
      "GROUND TRUTHS: [1, 0, 0, 0, 0, 0]\n",
      "SAMPLE 8\n",
      "ALL PREDICTIONS: [1, 0, 0, 0, 0, 0]\n",
      "GROUND TRUTHS: [1, 0, 0, 0, 0, 0]\n",
      "SAMPLE 9\n",
      "ALL PREDICTIONS: [0, 0, 0, 1, 0, 0]\n",
      "GROUND TRUTHS: [0, 1, 0, 1, 0, 0]\n",
      "SAMPLE 10\n",
      "ALL PREDICTIONS: [1, 1, 0, 1, 0, 0]\n",
      "GROUND TRUTHS: [1, 1, 0, 1, 1, 1]\n",
      "SAMPLE 11\n",
      "ALL PREDICTIONS: [1, 1, 0, 0, 0, 0]\n",
      "GROUND TRUTHS: [0, 0, 0, 0, 0, 0]\n",
      "SAMPLE 12\n",
      "ALL PREDICTIONS: [0, 0, 0, 0, 0, 0]\n",
      "GROUND TRUTHS: [1, 1, 1, 1, 1, 1]\n",
      "SAMPLE 13\n",
      "ALL PREDICTIONS: [0, 0, 0, 0, 0, 0]\n",
      "GROUND TRUTHS: [0, 0, 0, 1, 0, 0]\n",
      "SAMPLE 14\n",
      "ALL PREDICTIONS: [0, 1, 0, 1, 0, 0]\n",
      "GROUND TRUTHS: [1, 1, 0, 1, 0, 0]\n",
      "SAMPLE 15\n",
      "ALL PREDICTIONS: [1, 0, 0, 0, 0, 0]\n",
      "GROUND TRUTHS: [1, 1, 0, 1, 0, 0]\n",
      "SAMPLE 16\n",
      "ALL PREDICTIONS: [1, 0, 0, 0, 0, 0]\n",
      "GROUND TRUTHS: [1, 0, 0, 0, 0, 0]\n",
      "SAMPLE 17\n",
      "ALL PREDICTIONS: [1, 1, 0, 1, 0, 0]\n",
      "GROUND TRUTHS: [1, 1, 0, 1, 0, 0]\n",
      "SAMPLE 18\n",
      "ALL PREDICTIONS: [1, 1, 0, 1, 0, 0]\n",
      "GROUND TRUTHS: [1, 1, 0, 0, 0, 0]\n",
      "SAMPLE 19\n",
      "ALL PREDICTIONS: [0, 1, 0, 0, 1, 1]\n",
      "GROUND TRUTHS: [0, 1, 0, 1, 1, 1]\n",
      "SAMPLE 20\n",
      "ALL PREDICTIONS: [0, 1, 0, 0, 0, 0]\n",
      "GROUND TRUTHS: [0, 1, 0, 1, 0, 0]\n",
      "SAMPLE 21\n",
      "ALL PREDICTIONS: [0, 0, 0, 0, 0, 0]\n",
      "GROUND TRUTHS: [0, 0, 0, 0, 0, 0]\n",
      "SAMPLE 22\n",
      "ALL PREDICTIONS: [1, 1, 0, 1, 0, 0]\n",
      "GROUND TRUTHS: [1, 0, 0, 1, 0, 0]\n",
      "SAMPLE 23\n",
      "ALL PREDICTIONS: [0, 0, 0, 0, 1, 1]\n",
      "GROUND TRUTHS: [1, 1, 0, 1, 1, 1]\n",
      "SAMPLE 24\n",
      "ALL PREDICTIONS: [1, 1, 0, 0, 0, 0]\n",
      "GROUND TRUTHS: [1, 1, 0, 0, 0, 0]\n",
      "SAMPLE 25\n",
      "ALL PREDICTIONS: [1, 1, 0, 1, 0, 0]\n",
      "GROUND TRUTHS: [1, 0, 0, 1, 0, 0]\n",
      "SAMPLE 26\n",
      "ALL PREDICTIONS: [1, 1, 0, 0, 0, 0]\n",
      "GROUND TRUTHS: [1, 1, 0, 0, 0, 0]\n",
      "SAMPLE 27\n",
      "ALL PREDICTIONS: [0, 1, 0, 0, 0, 0]\n",
      "GROUND TRUTHS: [0, 1, 0, 0, 0, 0]\n",
      "SAMPLE 28\n",
      "ALL PREDICTIONS: [0, 1, 0, 0, 0, 0]\n",
      "GROUND TRUTHS: [0, 1, 0, 0, 0, 0]\n",
      "SAMPLE 29\n",
      "ALL PREDICTIONS: [0, 1, 0, 1, 0, 0]\n",
      "GROUND TRUTHS: [0, 1, 0, 1, 0, 0]\n",
      "SAMPLE 30\n",
      "ALL PREDICTIONS: [0, 0, 0, 0, 0, 0]\n",
      "GROUND TRUTHS: [1, 1, 0, 0, 0, 0]\n",
      "SAMPLE 31\n",
      "ALL PREDICTIONS: [1, 0, 0, 0, 0, 0]\n",
      "GROUND TRUTHS: [1, 1, 0, 1, 1, 1]\n",
      "SAMPLE 32\n",
      "ALL PREDICTIONS: [1, 1, 0, 0, 0, 0]\n",
      "GROUND TRUTHS: [1, 0, 0, 0, 0, 0]\n",
      "SAMPLE 33\n",
      "ALL PREDICTIONS: [1, 1, 0, 1, 1, 1]\n",
      "GROUND TRUTHS: [1, 1, 0, 1, 1, 1]\n",
      "SAMPLE 34\n",
      "ALL PREDICTIONS: [0, 0, 0, 0, 0, 0]\n",
      "GROUND TRUTHS: [0, 0, 0, 0, 0, 0]\n",
      "SAMPLE 35\n",
      "ALL PREDICTIONS: [0, 0, 0, 1, 0, 0]\n",
      "GROUND TRUTHS: [0, 0, 0, 1, 0, 0]\n",
      "SAMPLE 36\n",
      "ALL PREDICTIONS: [1, 1, 0, 1, 0, 0]\n",
      "GROUND TRUTHS: [1, 1, 0, 0, 0, 0]\n",
      "SAMPLE 37\n",
      "ALL PREDICTIONS: [0, 1, 0, 0, 0, 0]\n",
      "GROUND TRUTHS: [0, 1, 0, 0, 0, 0]\n",
      "SAMPLE 38\n",
      "ALL PREDICTIONS: [0, 1, 0, 1, 0, 0]\n",
      "GROUND TRUTHS: [0, 1, 0, 1, 0, 0]\n"
     ]
    },
    {
     "name": "stderr",
     "output_type": "stream",
     "text": [
      "/Users/franciscovarelacid/opt/anaconda3/envs/nlpmod/lib/python3.8/site-packages/torch/nn/functional.py:1351: UserWarning: nn.functional.sigmoid is deprecated. Use torch.sigmoid instead.\n",
      "  warnings.warn(\"nn.functional.sigmoid is deprecated. Use torch.sigmoid instead.\")\n"
     ]
    },
    {
     "name": "stdout",
     "output_type": "stream",
     "text": [
      "SAMPLE 39\n",
      "ALL PREDICTIONS: [1, 0, 0, 0, 1, 1]\n",
      "GROUND TRUTHS: [1, 0, 0, 0, 1, 1]\n",
      "SAMPLE 40\n",
      "ALL PREDICTIONS: [0, 1, 0, 0, 0, 0]\n",
      "GROUND TRUTHS: [1, 1, 0, 1, 0, 0]\n",
      "SAMPLE 41\n",
      "ALL PREDICTIONS: [1, 1, 0, 0, 0, 0]\n",
      "GROUND TRUTHS: [0, 1, 0, 0, 0, 0]\n",
      "SAMPLE 42\n",
      "ALL PREDICTIONS: [0, 0, 0, 1, 0, 0]\n",
      "GROUND TRUTHS: [1, 0, 0, 1, 0, 0]\n",
      "SAMPLE 43\n",
      "ALL PREDICTIONS: [0, 1, 0, 0, 0, 0]\n",
      "GROUND TRUTHS: [0, 1, 0, 0, 0, 0]\n",
      "SAMPLE 44\n",
      "ALL PREDICTIONS: [0, 1, 0, 1, 0, 0]\n",
      "GROUND TRUTHS: [1, 1, 0, 1, 0, 0]\n",
      "SAMPLE 45\n",
      "ALL PREDICTIONS: [1, 1, 0, 1, 0, 0]\n",
      "GROUND TRUTHS: [1, 1, 0, 0, 0, 0]\n",
      "SAMPLE 46\n",
      "ALL PREDICTIONS: [0, 1, 0, 0, 0, 0]\n",
      "GROUND TRUTHS: [0, 1, 0, 0, 0, 0]\n",
      "SAMPLE 47\n",
      "ALL PREDICTIONS: [0, 0, 0, 0, 0, 0]\n",
      "GROUND TRUTHS: [0, 0, 0, 0, 1, 1]\n",
      "SAMPLE 48\n",
      "ALL PREDICTIONS: [0, 0, 0, 0, 0, 0]\n",
      "GROUND TRUTHS: [0, 1, 0, 1, 0, 0]\n",
      "SAMPLE 49\n",
      "ALL PREDICTIONS: [1, 1, 0, 1, 0, 0]\n",
      "GROUND TRUTHS: [1, 1, 0, 1, 0, 0]\n",
      "SAMPLE 50\n",
      "ALL PREDICTIONS: [0, 0, 0, 0, 0, 0]\n",
      "GROUND TRUTHS: [0, 0, 0, 0, 0, 0]\n",
      "SAMPLE 51\n",
      "ALL PREDICTIONS: [0, 0, 0, 1, 0, 0]\n",
      "GROUND TRUTHS: [0, 1, 0, 1, 0, 0]\n",
      "SAMPLE 52\n",
      "ALL PREDICTIONS: [1, 1, 0, 0, 0, 0]\n",
      "GROUND TRUTHS: [1, 1, 0, 0, 0, 0]\n",
      "SAMPLE 53\n",
      "ALL PREDICTIONS: [1, 0, 0, 0, 0, 0]\n",
      "GROUND TRUTHS: [1, 0, 0, 0, 0, 0]\n",
      "SAMPLE 54\n",
      "ALL PREDICTIONS: [1, 0, 0, 0, 0, 0]\n",
      "GROUND TRUTHS: [1, 0, 0, 0, 0, 0]\n",
      "SAMPLE 55\n",
      "ALL PREDICTIONS: [1, 1, 0, 0, 1, 1]\n",
      "GROUND TRUTHS: [1, 1, 1, 1, 1, 1]\n",
      "SAMPLE 56\n",
      "ALL PREDICTIONS: [0, 1, 0, 0, 0, 0]\n",
      "GROUND TRUTHS: [0, 1, 0, 0, 0, 0]\n",
      "SAMPLE 57\n",
      "ALL PREDICTIONS: [1, 1, 0, 0, 0, 0]\n",
      "GROUND TRUTHS: [1, 1, 0, 0, 0, 0]\n",
      "SAMPLE 58\n",
      "ALL PREDICTIONS: [0, 1, 0, 0, 0, 0]\n",
      "GROUND TRUTHS: [0, 1, 0, 0, 0, 0]\n",
      "SAMPLE 59\n",
      "ALL PREDICTIONS: [1, 1, 0, 0, 0, 0]\n",
      "GROUND TRUTHS: [1, 1, 0, 1, 1, 1]\n",
      "SAMPLE 60\n",
      "ALL PREDICTIONS: [0, 1, 0, 0, 0, 0]\n",
      "GROUND TRUTHS: [0, 1, 0, 0, 0, 0]\n",
      "SAMPLE 61\n",
      "ALL PREDICTIONS: [1, 1, 0, 1, 1, 1]\n",
      "GROUND TRUTHS: [0, 1, 0, 0, 1, 1]\n",
      "SAMPLE 62\n",
      "ALL PREDICTIONS: [0, 1, 0, 0, 0, 0]\n",
      "GROUND TRUTHS: [0, 1, 0, 0, 0, 0]\n",
      "SAMPLE 63\n",
      "ALL PREDICTIONS: [0, 1, 0, 0, 0, 0]\n",
      "GROUND TRUTHS: [0, 1, 0, 0, 0, 0]\n",
      "SAMPLE 64\n",
      "ALL PREDICTIONS: [1, 1, 0, 1, 0, 0]\n",
      "GROUND TRUTHS: [1, 1, 0, 1, 0, 0]\n",
      "SAMPLE 65\n",
      "ALL PREDICTIONS: [0, 1, 0, 1, 1, 1]\n",
      "GROUND TRUTHS: [0, 1, 0, 0, 0, 0]\n",
      "SAMPLE 66\n",
      "ALL PREDICTIONS: [1, 1, 0, 0, 0, 0]\n",
      "GROUND TRUTHS: [1, 1, 0, 1, 0, 0]\n",
      "SAMPLE 67\n",
      "ALL PREDICTIONS: [0, 0, 0, 0, 0, 0]\n",
      "GROUND TRUTHS: [1, 1, 0, 1, 1, 1]\n",
      "SAMPLE 68\n",
      "ALL PREDICTIONS: [1, 1, 0, 1, 0, 0]\n",
      "GROUND TRUTHS: [1, 1, 0, 0, 1, 1]\n",
      "SAMPLE 69\n",
      "ALL PREDICTIONS: [0, 0, 0, 0, 0, 0]\n",
      "GROUND TRUTHS: [0, 0, 0, 0, 0, 0]\n",
      "SAMPLE 70\n",
      "ALL PREDICTIONS: [0, 1, 0, 0, 0, 0]\n",
      "GROUND TRUTHS: [1, 1, 0, 0, 0, 0]\n",
      "SAMPLE 71\n",
      "ALL PREDICTIONS: [1, 1, 0, 0, 1, 1]\n",
      "GROUND TRUTHS: [1, 1, 0, 0, 1, 1]\n",
      "SAMPLE 72\n",
      "ALL PREDICTIONS: [0, 0, 0, 1, 0, 0]\n",
      "GROUND TRUTHS: [1, 1, 0, 1, 1, 1]\n",
      "SAMPLE 73\n",
      "ALL PREDICTIONS: [1, 1, 0, 1, 0, 0]\n",
      "GROUND TRUTHS: [0, 1, 0, 1, 0, 0]\n",
      "SAMPLE 74\n",
      "ALL PREDICTIONS: [1, 1, 0, 0, 0, 0]\n",
      "GROUND TRUTHS: [1, 1, 0, 1, 0, 0]\n",
      "SAMPLE 75\n",
      "ALL PREDICTIONS: [1, 1, 0, 1, 1, 1]\n",
      "GROUND TRUTHS: [1, 0, 0, 1, 0, 0]\n",
      "SAMPLE 76\n",
      "ALL PREDICTIONS: [1, 1, 0, 0, 0, 0]\n",
      "GROUND TRUTHS: [1, 1, 0, 1, 1, 1]\n",
      "SAMPLE 77\n",
      "ALL PREDICTIONS: [1, 1, 0, 0, 0, 0]\n",
      "GROUND TRUTHS: [0, 1, 0, 0, 0, 0]\n",
      "SAMPLE 78\n",
      "ALL PREDICTIONS: [1, 1, 0, 0, 1, 1]\n",
      "GROUND TRUTHS: [0, 1, 0, 0, 1, 1]\n",
      "SAMPLE 79\n",
      "ALL PREDICTIONS: [0, 0, 0, 0, 0, 0]\n",
      "GROUND TRUTHS: [0, 0, 0, 0, 0, 0]\n",
      "SAMPLE 80\n",
      "ALL PREDICTIONS: [1, 1, 0, 0, 1, 1]\n",
      "GROUND TRUTHS: [0, 0, 0, 0, 0, 0]\n",
      "SAMPLE 81\n",
      "ALL PREDICTIONS: [0, 0, 0, 0, 1, 1]\n",
      "GROUND TRUTHS: [0, 0, 0, 1, 1, 1]\n",
      "SAMPLE 82\n",
      "ALL PREDICTIONS: [1, 1, 0, 0, 0, 0]\n",
      "GROUND TRUTHS: [1, 1, 0, 0, 0, 0]\n",
      "SAMPLE 83\n",
      "ALL PREDICTIONS: [1, 1, 0, 0, 0, 0]\n",
      "GROUND TRUTHS: [1, 1, 0, 0, 0, 0]\n",
      "SAMPLE 84\n",
      "ALL PREDICTIONS: [0, 0, 0, 1, 0, 0]\n",
      "GROUND TRUTHS: [0, 0, 0, 1, 0, 0]\n",
      "SAMPLE 85\n",
      "ALL PREDICTIONS: [0, 1, 0, 0, 0, 0]\n",
      "GROUND TRUTHS: [1, 1, 0, 0, 0, 0]\n",
      "SAMPLE 86\n",
      "ALL PREDICTIONS: [0, 1, 0, 0, 0, 0]\n",
      "GROUND TRUTHS: [0, 1, 0, 0, 1, 1]\n",
      "SAMPLE 87\n",
      "ALL PREDICTIONS: [1, 0, 0, 0, 0, 0]\n",
      "GROUND TRUTHS: [1, 0, 0, 0, 0, 0]\n",
      "SAMPLE 88\n",
      "ALL PREDICTIONS: [0, 0, 0, 0, 0, 0]\n",
      "GROUND TRUTHS: [1, 1, 0, 1, 1, 1]\n",
      "SAMPLE 89\n",
      "ALL PREDICTIONS: [0, 0, 0, 0, 0, 0]\n",
      "GROUND TRUTHS: [0, 0, 0, 0, 0, 0]\n",
      "SAMPLE 90\n",
      "ALL PREDICTIONS: [0, 0, 0, 0, 0, 0]\n",
      "GROUND TRUTHS: [0, 0, 0, 0, 0, 0]\n",
      "SAMPLE 91\n",
      "ALL PREDICTIONS: [1, 1, 0, 1, 0, 0]\n",
      "GROUND TRUTHS: [0, 1, 0, 1, 1, 1]\n",
      "SAMPLE 92\n",
      "ALL PREDICTIONS: [0, 1, 0, 1, 1, 1]\n",
      "GROUND TRUTHS: [0, 1, 0, 1, 0, 0]\n",
      "SAMPLE 93\n",
      "ALL PREDICTIONS: [1, 1, 0, 1, 0, 0]\n",
      "GROUND TRUTHS: [0, 0, 0, 0, 0, 0]\n",
      "SAMPLE 94\n",
      "ALL PREDICTIONS: [1, 1, 0, 1, 0, 0]\n",
      "GROUND TRUTHS: [0, 0, 0, 0, 0, 0]\n",
      "SAMPLE 95\n",
      "ALL PREDICTIONS: [1, 1, 0, 0, 0, 0]\n",
      "GROUND TRUTHS: [0, 1, 0, 0, 0, 0]\n",
      "SAMPLE 96\n",
      "ALL PREDICTIONS: [0, 0, 0, 1, 0, 0]\n",
      "GROUND TRUTHS: [1, 1, 0, 1, 1, 1]\n",
      "SAMPLE 97\n",
      "ALL PREDICTIONS: [0, 1, 0, 0, 0, 0]\n",
      "GROUND TRUTHS: [0, 1, 0, 0, 0, 0]\n",
      "SAMPLE 98\n",
      "ALL PREDICTIONS: [0, 1, 0, 1, 0, 0]\n",
      "GROUND TRUTHS: [0, 1, 0, 1, 0, 0]\n",
      "SAMPLE 99\n",
      "ALL PREDICTIONS: [1, 0, 0, 0, 0, 0]\n",
      "GROUND TRUTHS: [1, 0, 0, 0, 0, 0]\n"
     ]
    }
   ],
   "source": [
    "for i, test_sample in enumerate(test_dataloader):\n",
    "    print(f\"SAMPLE {i}\")\n",
    "    # extract the features and labels\n",
    "    features = test_sample['features'].to(device)\n",
    "    target1 = test_sample['label1'].to(device)\n",
    "    target2 = test_sample['label2'].to(device)\n",
    "    target3 = test_sample['label3'].to(device)\n",
    "    target4 = test_sample['label4'].to(device)\n",
    "    target5 = test_sample['label5'].to(device)\n",
    "    target6 = test_sample['label6'].to(device)\n",
    "    \n",
    "    outputs = model(features)\n",
    "            \n",
    "    # get all the labels\n",
    "    all_labels = []\n",
    "    for out in outputs:\n",
    "        if out >= 0.5:\n",
    "            all_labels.append(1)\n",
    "        else:\n",
    "            all_labels.append(0)\n",
    "    \n",
    "    targets = (target1, target2, target3, target4, target5, target6)\n",
    "    \n",
    "    # get all the targets in int format from tensor format\n",
    "    all_targets = []\n",
    "    for target in targets:\n",
    "        all_targets.append(int(target.squeeze(0).detach().cpu()))\n",
    "            \n",
    "    print(f\"ALL PREDICTIONS: {all_labels}\")\n",
    "    print(f\"GROUND TRUTHS: {all_targets}\")"
   ]
  }
 ],
 "metadata": {
  "interpreter": {
   "hash": "be2cbdda8aa2f9b96b178970cd0b2401cff75b5326fdd25c9e5bf06009d8e641"
  },
  "kernelspec": {
   "display_name": "Python 3.8.11 64-bit ('nlpmod': conda)",
   "name": "python3"
  },
  "language_info": {
   "codemirror_mode": {
    "name": "ipython",
    "version": 3
   },
   "file_extension": ".py",
   "mimetype": "text/x-python",
   "name": "python",
   "nbconvert_exporter": "python",
   "pygments_lexer": "ipython3",
   "version": "3.8.11"
  },
  "orig_nbformat": 4
 },
 "nbformat": 4,
 "nbformat_minor": 2
}
